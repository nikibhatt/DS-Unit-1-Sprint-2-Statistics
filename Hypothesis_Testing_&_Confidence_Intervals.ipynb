{
  "nbformat": 4,
  "nbformat_minor": 0,
  "metadata": {
    "colab": {
      "name": "Hypothesis Testing & Confidence Intervals.ipynb",
      "provenance": [],
      "collapsed_sections": [],
      "include_colab_link": true
    },
    "kernelspec": {
      "name": "python3",
      "display_name": "Python 3"
    }
  },
  "cells": [
    {
      "cell_type": "markdown",
      "metadata": {
        "id": "view-in-github",
        "colab_type": "text"
      },
      "source": [
        "<a href=\"https://colab.research.google.com/github/nikibhatt/DS-Unit-1-Sprint-2-Statistics/blob/master/Hypothesis_Testing_%26_Confidence_Intervals.ipynb\" target=\"_parent\"><img src=\"https://colab.research.google.com/assets/colab-badge.svg\" alt=\"Open In Colab\"/></a>"
      ]
    },
    {
      "cell_type": "code",
      "metadata": {
        "id": "iHcKkD_-8std",
        "colab_type": "code",
        "colab": {}
      },
      "source": [
        "import numpy as np\n",
        "from scipy import stats\n",
        "import math\n",
        "import matplotlib.pyplot as plt"
      ],
      "execution_count": 0,
      "outputs": []
    },
    {
      "cell_type": "code",
      "metadata": {
        "id": "N9UOlA4hjaro",
        "colab_type": "code",
        "outputId": "80a52639-7980-41e7-9a07-d521ade32910",
        "colab": {
          "base_uri": "https://localhost:8080/",
          "height": 36
        }
      },
      "source": [
        "# Randomly generate a coin\n",
        "# that may or may not be fair\n",
        "chances = np.random.uniform(0, 1)\n",
        "chances"
      ],
      "execution_count": 0,
      "outputs": [
        {
          "output_type": "execute_result",
          "data": {
            "text/plain": [
              "0.8082985230398018"
            ]
          },
          "metadata": {
            "tags": []
          },
          "execution_count": 271
        }
      ]
    },
    {
      "cell_type": "code",
      "metadata": {
        "id": "nTheA-WZQvtm",
        "colab_type": "code",
        "outputId": "ff8aef33-9569-4614-8e51-1fcf61d45e0f",
        "colab": {
          "base_uri": "https://localhost:8080/",
          "height": 36
        }
      },
      "source": [
        "# Flip the coin ten times;\n",
        "# this becomes our sample\n",
        "flips = np.random.binomial(1, chances, 10)\n",
        "flips"
      ],
      "execution_count": 0,
      "outputs": [
        {
          "output_type": "execute_result",
          "data": {
            "text/plain": [
              "array([1, 1, 1, 0, 1, 1, 0, 1, 1, 0])"
            ]
          },
          "metadata": {
            "tags": []
          },
          "execution_count": 279
        }
      ]
    },
    {
      "cell_type": "markdown",
      "metadata": {
        "id": "bL__VP_6Pkhm",
        "colab_type": "text"
      },
      "source": [
        "# Is the coin fair?\n",
        "\n",
        "**Null Hypothesis**: The coin is fair.\n",
        "\n",
        "**Alternative Hypothesis**: The coin favors one side over the other.\n",
        "\n",
        "How do we test the null hypothesis?\n",
        "\n",
        "## Approach 1: T-Statistic & P-Value\n",
        "\n",
        "The t-statistic tells us (in terms of standard deviations from the corresponding t-distribution's mean) how unlikely our given mean is, assuming the sample standard deviation is a good estimate of the population standard deviation. Its equation:\n",
        "\n",
        "> $ t_\\alpha = \\displaystyle \\frac{\\bar x - \\mu}{s / \\sqrt n} $\n",
        "\n",
        "What do the variables mean?\n",
        "\n",
        "> $ \\alpha = $ Significance level; \"How unlikely must it be for us to reject the null hypothesis?\" In our case, $ 0.05 $\n",
        ">\n",
        "> $ t_\\alpha = $ Corresponding t-statistic for that signifiance level; \"How many standard deviations away must the t-statistic be, in order to reach that level of significance?\"\n",
        ">\n",
        "\n",
        "The other side of the equation tells us how to construct the required $ t_\\alpha $:\n",
        "\n",
        ">\n",
        "> $ \\bar x = $ Sample mean\n",
        ">\n",
        "> $ \\mu = $ Population mean; in our case, hypothesized to be $ 0.5 $\n",
        ">\n",
        "> $ s = $ Sample standard deviation\n",
        ">\n",
        "> $ n = $ Sample size\n",
        ">\n",
        "> $ s / \\sqrt n = $ Standard error; \"How far from our sample mean would we have to go to get 66% confidence that the population mean is within that distance?\" Approximated, because we don't know the population standard deviation (we use the sample's instead)\n",
        "\n",
        "With the necessary $ t_\\alpha $, we use a CDF lookup to turn that into the probability of getting, at most, that t-statistic; the p-value is simply $ 1 - CDF(t_\\alpha) $ (\"How likely are we to get results at least as extreme as this?\")"
      ]
    },
    {
      "cell_type": "code",
      "metadata": {
        "id": "KFkigjhOP7t1",
        "colab_type": "code",
        "outputId": "9c1a205f-4f4f-4faf-f8fb-031c35584113",
        "colab": {
          "base_uri": "https://localhost:8080/",
          "height": 36
        }
      },
      "source": [
        "# Null Hypothesis\n",
        "mu = 0.5\n",
        "\n",
        "n = len(flips)\n",
        "xbar = flips.mean()\n",
        "s = flips.std()\n",
        "\n",
        "stderr = s / math.sqrt(n)\n",
        "t = (xbar - mu) / stderr\n",
        "\n",
        "# How likely are we to get a t-statistic\n",
        "# at least this high, assuming the null hypothesis?\n",
        "dof = n - 1\n",
        "p = 1 - stats.t.cdf(abs(t), dof)\n",
        "\n",
        "# Can we reject the null hypothesis?\n",
        "approach1 = p < 0.05\n",
        "approach1"
      ],
      "execution_count": 0,
      "outputs": [
        {
          "output_type": "execute_result",
          "data": {
            "text/plain": [
              "False"
            ]
          },
          "metadata": {
            "tags": []
          },
          "execution_count": 280
        }
      ]
    },
    {
      "cell_type": "markdown",
      "metadata": {
        "id": "RvHuKwcwZ8DG",
        "colab_type": "text"
      },
      "source": [
        "## Approach 2: Confidence Intervals\n",
        "\n",
        "We can come at it \"backwards\" as well. Assuming the null hypothesis is true, what are (according to a t-distribution) the lower and upper bounds for 95% of the means we would draw for an arbitrary sample?\n",
        "\n",
        "If the mean of *our* sample falls outside these bounds (centered on $ 0.5 $), then we can reject the null hypothesis."
      ]
    },
    {
      "cell_type": "code",
      "metadata": {
        "id": "3x1g-od_h7do",
        "colab_type": "code",
        "outputId": "6074e561-c6e9-47e7-c7fc-5f063f6e736b",
        "colab": {
          "base_uri": "https://localhost:8080/",
          "height": 36
        }
      },
      "source": [
        "# According to the t-distribution,\n",
        "# where are the 2.5% and 97.5% bounds of means,\n",
        "# assuming the null hypothesis (that our coin is fair)?\n",
        "bare_std = stats.t.ppf(0.975, dof)\n",
        "\n",
        "# Translate this multiplier of standard deviations\n",
        "# into our own sample unit of standard deviation\n",
        "margin = stderr * bare_std\n",
        "lower = mu - margin\n",
        "upper = mu + margin\n",
        "\n",
        "# Does our sample mean fall outside this boundary?\n",
        "approach2 = xbar < lower or xbar > upper\n",
        "approach2"
      ],
      "execution_count": 0,
      "outputs": [
        {
          "output_type": "execute_result",
          "data": {
            "text/plain": [
              "False"
            ]
          },
          "metadata": {
            "tags": []
          },
          "execution_count": 281
        }
      ]
    },
    {
      "cell_type": "markdown",
      "metadata": {
        "id": "QdATp7gXjEyS",
        "colab_type": "text"
      },
      "source": [
        "## THE PAYOFF\n",
        "\n",
        "Our two approaches, hypothesis testing and confidence intervals, should agree on whether we can reject the null hypothesis:"
      ]
    },
    {
      "cell_type": "code",
      "metadata": {
        "id": "zQXKN52MjLlP",
        "colab_type": "code",
        "outputId": "8490ef06-d854-4d92-c791-6e889beda6f8",
        "colab": {
          "base_uri": "https://localhost:8080/",
          "height": 93
        }
      },
      "source": [
        "assert(approach1 == approach2)\n",
        "\n",
        "if approach1:\n",
        "  print(\"REJECT THE NULL HYPOTHESIS\\nALTERNATIVE HYPOTHESIS IS STATISTICALLY SIGNIFICANT\\n---\\nBIASED COIN\")\n",
        "else:\n",
        "  print(\"FAILED TO REJECT THE NULL HYPOTHESIS\\nALTERNATIVE HYPOTHESIS IS NOT STATISTICALLY SIGNIFICANT\\n---\\nFAIR COIN\")"
      ],
      "execution_count": 0,
      "outputs": [
        {
          "output_type": "stream",
          "text": [
            "FAILED TO REJECT THE NULL HYPOTHESIS\n",
            "ALTERNATIVE HYPOTHESIS IS NOT STATISTICALLY SIGNIFICANT\n",
            "---\n",
            "FAIR COIN\n"
          ],
          "name": "stdout"
        }
      ]
    },
    {
      "cell_type": "code",
      "metadata": {
        "id": "XcqeX30TlYrH",
        "colab_type": "code",
        "outputId": "b9792449-6e6c-4bed-e207-9f715f00884d",
        "colab": {
          "base_uri": "https://localhost:8080/",
          "height": 602
        }
      },
      "source": [
        "# Graph the p-value\n",
        "x = np.linspace(mu - 2 * s, mu + 2 * s, 1000)\n",
        "Y = stats.norm.pdf(x, mu, s ** 2)\n",
        "plt.plot(x, Y)\n",
        "plt.axvline(1 - p, color='red')\n",
        "plt.fill_between(x, 0, Y, where=x>=1-p, color='pink')\n",
        "plt.title('P-value from t-statistic')\n",
        "plt.xlim(-0.5, 1.5)\n",
        "plt.show()\n",
        "\n",
        "print('\\n\\n')\n",
        "\n",
        "# Graph the confidence interval\n",
        "d = stats.gaussian_kde(flips)\n",
        "x = np.linspace(mu - 2 * s, mu + 2 * s,1000)\n",
        "plt.plot(x, d(x))\n",
        "plt.axvline(mu, color='grey', dashes=(3,2))\n",
        "plt.axvline(lower, color='grey')\n",
        "plt.axvline(upper, color='grey')\n",
        "plt.fill_between(x, 0, d(x), where=(x>=lower) & (x<=upper), color='pink')\n",
        "plt.axvline(xbar, color='red')\n",
        "plt.title('Confidence interval')\n",
        "plt.xlim(-0.5,1.5)\n",
        "plt.show()"
      ],
      "execution_count": 0,
      "outputs": [
        {
          "output_type": "display_data",
          "data": {
            "image/png": "[encoded data removed]",
            "text/plain": [
              "<Figure size 432x288 with 1 Axes>"
            ]
          },
          "metadata": {
            "tags": []
          }
        },
        {
          "output_type": "stream",
          "text": [
            "\n",
            "\n",
            "\n"
          ],
          "name": "stdout"
        },
        {
          "output_type": "display_data",
          "data": {
            "image/png": "[encoded data removed]",
            "text/plain": [
              "<Figure size 432x288 with 1 Axes>"
            ]
          },
          "metadata": {
            "tags": []
          }
        }
      ]
    }
  ]
}